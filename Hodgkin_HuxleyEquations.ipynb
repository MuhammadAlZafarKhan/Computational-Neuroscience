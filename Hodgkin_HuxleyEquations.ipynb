{
  "nbformat": 4,
  "nbformat_minor": 0,
  "metadata": {
    "colab": {
      "provenance": []
    },
    "kernelspec": {
      "name": "python3",
      "display_name": "Python 3"
    },
    "language_info": {
      "name": "python"
    }
  },
  "cells": [
    {
      "cell_type": "code",
      "source": [
        "# Packages\n",
        "\n",
        "import numpy as np\n",
        "import matplotlib.pyplot as plt"
      ],
      "metadata": {
        "id": "FgdQyIWz0OcU"
      },
      "execution_count": 1,
      "outputs": []
    },
    {
      "cell_type": "code",
      "source": [
        "# Arbitrary model parameters\n",
        "\n",
        "C_m = 1.0  # membrane capacitance (uF/cm^2)\n",
        "g_K = 36.0  # maximal conductance of potassium channels (mS/cm^2)\n",
        "g_Na = 120.0  # maximal conductance of sodium channels (mS/cm^2)\n",
        "g_L = 0.3  # maximal conductance of leak channels (mS/cm^2)\n",
        "E_K = -77.0  # reversal potential for potassium channels (mV)\n",
        "E_Na = 50.0  # reversal potential for sodium channels (mV)\n",
        "E_L = -54.387  # reversal potential for leak channels (mV)"
      ],
      "metadata": {
        "id": "kQj27qCg0U2j"
      },
      "execution_count": 2,
      "outputs": []
    },
    {
      "cell_type": "markdown",
      "source": [
        "$I_{e}(t)=0, 0\\leq t<10; I_{e}(t)=10, 10\\leq t\\leq 50; I_{e}(t)=0, 50<t<\\infty$"
      ],
      "metadata": {
        "id": "wXPiVW7N0m5K"
      }
    },
    {
      "cell_type": "code",
      "source": [
        "# Define external current input (uA/cm^2)\n",
        "\n",
        "def I_e(t):\n",
        "    if 10 <= t <= 50:\n",
        "        return 10.0\n",
        "    else:\n",
        "        return 0.0"
      ],
      "metadata": {
        "id": "3Q19b2_M0fP3"
      },
      "execution_count": 3,
      "outputs": []
    },
    {
      "cell_type": "code",
      "source": [
        "# Define gating variable functions\n",
        "def alpha_n(V):\n",
        "    return 0.01 * (V + 55.0) / (1.0 - np.exp(-0.1 * (V + 55.0)))\n",
        "\n",
        "def beta_n(V):\n",
        "    return 0.125 * np.exp(-0.0125 * (V + 65.0))\n",
        "\n",
        "def alpha_m(V):\n",
        "    return 0.1 * (V + 40.0) / (1.0 - np.exp(-0.1 * (V + 40.0)))\n",
        "\n",
        "def beta_m(V):\n",
        "    return 4.0 * np.exp(-0.0556 * (V + 65.0))\n",
        "\n",
        "def alpha_h(V):\n",
        "    return 0.07 * np.exp(-0.05 * (V + 65.0))\n",
        "\n",
        "def beta_h(V):\n",
        "    return 1.0 / (1.0 + np.exp(-0.1 * (V + 35.0)))"
      ],
      "metadata": {
        "id": "9TTNbHqP1hqO"
      },
      "execution_count": 4,
      "outputs": []
    },
    {
      "cell_type": "code",
      "source": [
        "# Defining the Hodgkin-Huxley equations\n",
        "\n",
        "def dXdt(X, t):\n",
        "    V, n, m, h = X.T\n",
        "    I_K = g_K * n**4 * (V - E_K)\n",
        "    I_Na = g_Na * m**3 * h * (V - E_Na)\n",
        "    I_L = g_L * (V - E_L)\n",
        "    I_m = I_K + I_Na + I_L\n",
        "    dVdt = (I_e(t) - I_m) / C_m\n",
        "    dndt = alpha_n(V) * (1.0 - n) - beta_n(V) * n\n",
        "    dmdt = alpha_m(V) * (1.0 - m) - beta_m(V) * m\n",
        "    dhdt = alpha_h(V) * (1.0 - h) - beta_h(V) * h\n",
        "    return np.vstack([dVdt, dndt, dmdt, dhdt]).T"
      ],
      "metadata": {
        "id": "aNp5LVtG1qNV"
      },
      "execution_count": 5,
      "outputs": []
    },
    {
      "cell_type": "code",
      "source": [
        "# Initial conditions\n",
        "\n",
        "X0 = [-65.0, 0.3177, 0.0529, 0.5961]"
      ],
      "metadata": {
        "id": "dEaaIOaB15jp"
      },
      "execution_count": 6,
      "outputs": []
    },
    {
      "cell_type": "code",
      "source": [
        "# Time vector\n",
        "\n",
        "t = np.arange(0.0, 100.0, 0.01)"
      ],
      "metadata": {
        "id": "w4jVXtnu1-ZR"
      },
      "execution_count": 7,
      "outputs": []
    },
    {
      "cell_type": "code",
      "source": [
        "# Using the fourth-order Runge-Kutta method to solve the equations\n",
        "\n",
        "X = np.zeros((len(t), 4))\n",
        "X[0, :] = X0\n",
        "for i in range(len(t) - 1):\n",
        "    k1 = dXdt(X[i, :], t[i])\n",
        "    k2 = dXdt(X[i, :] + 0.5 * k1 * (t[i+1] - t[i]), t[i] + 0.5 * (t[i+1] - t[i]))\n",
        "    k3 = dXdt(X[i, :] + 0.5 * k2 * (t[i+1] - t[i]), t[i] + 0.5 * (t[i+1] - t[i]))\n",
        "    k4 = dXdt(X[i, :] + k3 * (t[i+1] - t[i]), t[i+1])\n",
        "    X[i+1, :] = X[i, :] + (k1 + 2.0 * k2 + 2.0 * k3 + k4) / 6.0"
      ],
      "metadata": {
        "colab": {
          "base_uri": "https://localhost:8080/"
        },
        "id": "R1EzXjoY2C2s",
        "outputId": "c36762b5-88a7-48ff-8ba7-436c29079add"
      },
      "execution_count": 8,
      "outputs": [
        {
          "output_type": "stream",
          "name": "stderr",
          "text": [
            "<ipython-input-4-da2c6442f8f5>:3: RuntimeWarning: overflow encountered in exp\n",
            "  return 0.01 * (V + 55.0) / (1.0 - np.exp(-0.1 * (V + 55.0)))\n",
            "<ipython-input-4-da2c6442f8f5>:6: RuntimeWarning: overflow encountered in exp\n",
            "  return 0.125 * np.exp(-0.0125 * (V + 65.0))\n",
            "<ipython-input-4-da2c6442f8f5>:9: RuntimeWarning: overflow encountered in exp\n",
            "  return 0.1 * (V + 40.0) / (1.0 - np.exp(-0.1 * (V + 40.0)))\n",
            "<ipython-input-4-da2c6442f8f5>:12: RuntimeWarning: overflow encountered in exp\n",
            "  return 4.0 * np.exp(-0.0556 * (V + 65.0))\n",
            "<ipython-input-4-da2c6442f8f5>:15: RuntimeWarning: overflow encountered in exp\n",
            "  return 0.07 * np.exp(-0.05 * (V + 65.0))\n",
            "<ipython-input-4-da2c6442f8f5>:18: RuntimeWarning: overflow encountered in exp\n",
            "  return 1.0 / (1.0 + np.exp(-0.1 * (V + 35.0)))\n",
            "<ipython-input-5-4744ae7af207>:10: RuntimeWarning: invalid value encountered in multiply\n",
            "  dndt = alpha_n(V) * (1.0 - n) - beta_n(V) * n\n",
            "<ipython-input-5-4744ae7af207>:11: RuntimeWarning: invalid value encountered in multiply\n",
            "  dmdt = alpha_m(V) * (1.0 - m) - beta_m(V) * m\n",
            "<ipython-input-5-4744ae7af207>:12: RuntimeWarning: invalid value encountered in multiply\n",
            "  dhdt = alpha_h(V) * (1.0 - h) - beta_h(V) * h\n"
          ]
        }
      ]
    },
    {
      "cell_type": "code",
      "source": [
        "# Extracting the membrane potential and gating variables\n",
        "\n",
        "V = X[:, 0]\n",
        "n = X[:, 1]\n",
        "m = X[:, 2]\n",
        "h = X[:, 3]"
      ],
      "metadata": {
        "id": "tlGGdcVn2RGE"
      },
      "execution_count": 9,
      "outputs": []
    },
    {
      "cell_type": "code",
      "execution_count": 10,
      "metadata": {
        "colab": {
          "base_uri": "https://localhost:8080/",
          "height": 497
        },
        "id": "RoPNV-vdzNxy",
        "outputId": "0fda5624-57eb-4af6-8abd-e030b492b739"
      },
      "outputs": [
        {
          "output_type": "display_data",
          "data": {
            "text/plain": [
              "<Figure size 864x576 with 4 Axes>"
            ],
            "image/png": "[encoded data removed]"
          },
          "metadata": {
            "needs_background": "light"
          }
        }
      ],
      "source": [
        "# Plot the results\n",
        "\n",
        "plt.figure(figsize = (12, 8))\n",
        "plt.subplot(2, 2, 1)\n",
        "plt.plot(t, V)\n",
        "plt.xlabel('Time (ms)')\n",
        "plt.ylabel('Membrane potential (mV)')\n",
        "plt.subplot(2, 2, 2)\n",
        "plt.plot(t, n)\n",
        "plt.xlabel('Time (ms)')\n",
        "plt.ylabel('Gating variable n')\n",
        "plt.subplot(2, 2, 3)\n",
        "plt.plot(t, m)\n",
        "plt.xlabel('Time (ms)')\n",
        "plt.ylabel('Gating variable m')\n",
        "plt.subplot(2, 2, 4)\n",
        "plt.plot(t, h)\n",
        "plt.xlabel('Time (ms)')\n",
        "plt.ylabel('Gating variable h')\n",
        "plt.show()"
      ]
    },
    {
      "cell_type": "code",
      "source": [],
      "metadata": {
        "id": "T8vxrlSPzVhR"
      },
      "execution_count": 10,
      "outputs": []
    }
  ]
}