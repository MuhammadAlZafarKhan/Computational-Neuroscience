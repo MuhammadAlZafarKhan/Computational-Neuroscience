{
  "nbformat": 4,
  "nbformat_minor": 0,
  "metadata": {
    "colab": {
      "provenance": []
    },
    "kernelspec": {
      "name": "python3",
      "display_name": "Python 3"
    },
    "language_info": {
      "name": "python"
    }
  },
  "cells": [
    {
      "cell_type": "code",
      "source": [
        "# Packages\n",
        "\n",
        "import numpy as np\n",
        "import matplotlib.pyplot as plt"
      ],
      "metadata": {
        "id": "p3mS2kGH77T_"
      },
      "execution_count": 1,
      "outputs": []
    },
    {
      "cell_type": "code",
      "source": [
        "# Building the spatial domain\n",
        "\n",
        "L = 50  # Length of the domain\n",
        "dx = 0.1  # Spatial step size\n",
        "x = np.arange(-L/2, L/2, dx)  # Spatial grid"
      ],
      "metadata": {
        "id": "MeSah62t8BtI"
      },
      "execution_count": 2,
      "outputs": []
    },
    {
      "cell_type": "code",
      "source": [
        "# Building the time domain\n",
        "\n",
        "T = 100  # Total simulation time\n",
        "dt = 0.1  # Temporal step size\n",
        "t = np.arange(0, T, dt)  # Temporal grid"
      ],
      "metadata": {
        "id": "HZUIn7Rb8Iu2"
      },
      "execution_count": 3,
      "outputs": []
    },
    {
      "cell_type": "markdown",
      "source": [
        "$w(x)=e^{-x^{2}/2\\sigma^{2}}$"
      ],
      "metadata": {
        "id": "94Z56tE28hVY"
      }
    },
    {
      "cell_type": "code",
      "source": [
        "# Choosing the Gaussian connectivity kernel\n",
        "\n",
        "sigma = 5  # Width of the kernel\n",
        "w = lambda x: np.exp(-x**2/(2*sigma**2))  # Gaussian kernel"
      ],
      "metadata": {
        "id": "A7KMiP7V8ZDJ"
      },
      "execution_count": 9,
      "outputs": []
    },
    {
      "cell_type": "markdown",
      "source": [
        "$\\sigma=\\frac{1}{1+e^{-\\alpha u}}$"
      ],
      "metadata": {
        "id": "J6tecR4182JV"
      }
    },
    {
      "cell_type": "code",
      "source": [
        "# Define the input-output function\n",
        "\n",
        "alpha = 0.8  # Gain parameter\n",
        "F = lambda u: 1/(1 + np.exp(-alpha*u))  # Sigmoid function"
      ],
      "metadata": {
        "id": "O_bKKGhQ8uo8"
      },
      "execution_count": 4,
      "outputs": []
    },
    {
      "cell_type": "markdown",
      "source": [
        "Zero exteneral input: $I(x,t)=0$"
      ],
      "metadata": {
        "id": "Zt5Skxdt9Gpc"
      }
    },
    {
      "cell_type": "code",
      "source": [
        "# Define the external input\n",
        "I = lambda x, t: 0  # No external input"
      ],
      "metadata": {
        "id": "QIqEE_8y9Hha"
      },
      "execution_count": 5,
      "outputs": []
    },
    {
      "cell_type": "code",
      "source": [
        "# Initial condition\n",
        "\n",
        "u0 = np.zeros_like(x)"
      ],
      "metadata": {
        "id": "2npP_ppC9S9M"
      },
      "execution_count": 8,
      "outputs": []
    },
    {
      "cell_type": "markdown",
      "source": [
        "Neural Field Equation: $\\frac{\\partial u(x,t)}{\\partial t}=-u(x,t)+\\int w(x-y)F(u(y,t))dy+I(x,t)$"
      ],
      "metadata": {
        "id": "s6swrjaI9c-6"
      }
    },
    {
      "cell_type": "code",
      "source": [
        "# Solve the neural field equation using the Euler method\n",
        "u = np.zeros((len(x), len(t)))\n",
        "u[:, 0] = u0\n",
        "for i in range(len(t) - 1):\n",
        "    du_dt = -u[:, i] + np.sum(w(np.abs(x[:, np.newaxis] - x[np.newaxis, :]))*F(u[:, i]), axis=1) + I(x, t[i])\n",
        "    u[:, i+1] = u[:, i] + dt*du_dt"
      ],
      "metadata": {
        "id": "bD_vuKgm9b7e"
      },
      "execution_count": 10,
      "outputs": []
    },
    {
      "cell_type": "code",
      "execution_count": 11,
      "metadata": {
        "colab": {
          "base_uri": "https://localhost:8080/",
          "height": 279
        },
        "id": "aH00XsYM7xkx",
        "outputId": "89bcd986-660f-4729-d6c2-ccecce22d6f4"
      },
      "outputs": [
        {
          "output_type": "display_data",
          "data": {
            "text/plain": [
              "<Figure size 432x288 with 2 Axes>"
            ],
            "image/png": "[encoded data removed]"
          },
          "metadata": {
            "needs_background": "light"
          }
        }
      ],
      "source": [
        "# Plotting the results\n",
        "\n",
        "plt.imshow(u, aspect='auto', cmap='coolwarm', extent=[0, T, -L/2, L/2])\n",
        "plt.xlabel('Time')\n",
        "plt.ylabel('Space')\n",
        "plt.colorbar()\n",
        "plt.show()"
      ]
    }
  ]
}