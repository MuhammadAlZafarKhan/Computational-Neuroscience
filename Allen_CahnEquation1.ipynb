{
  "nbformat": 4,
  "nbformat_minor": 0,
  "metadata": {
    "colab": {
      "provenance": []
    },
    "kernelspec": {
      "name": "python3",
      "display_name": "Python 3"
    },
    "language_info": {
      "name": "python"
    }
  },
  "cells": [
    {
      "cell_type": "markdown",
      "source": [
        "$\\frac{\\partial\\varphi(x,t)}{\\partial t}=\\varepsilon^{2}\\boldsymbol{\\nabla}\\cdot\\boldsymbol{\\nabla}\\varphi(x,t)-f(\\varphi(x,t))+g(x,t)$"
      ],
      "metadata": {
        "id": "TCydHTwLHojH"
      }
    },
    {
      "cell_type": "code",
      "source": [
        "# Packages\n",
        "\n",
        "import numpy as np\n",
        "import matplotlib.pyplot as plt"
      ],
      "metadata": {
        "id": "5tJSk-ZsIcA-"
      },
      "execution_count": 1,
      "outputs": []
    },
    {
      "cell_type": "code",
      "source": [
        "# Model parameters\n",
        "\n",
        "L = 1.0         # Length of domain\n",
        "T = 1.0         # Final time\n",
        "dx = 0.01       # Spatial step size\n",
        "dt = 0.001      # Time step size\n",
        "epsilon = 0.01  # Width of phase boundary\n",
        "n = int(L/dx)   # Number of grid points"
      ],
      "metadata": {
        "id": "oP_JqIvTIp-t"
      },
      "execution_count": 2,
      "outputs": []
    },
    {
      "cell_type": "markdown",
      "source": [
        "$\\varphi(x,0)=\\sin(\\pi x)$"
      ],
      "metadata": {
        "id": "tISbEciRI5xo"
      }
    },
    {
      "cell_type": "code",
      "source": [
        "# Initial condition\n",
        "\n",
        "x = np.linspace(0, L, n)\n",
        "phi0 = np.sin(np.pi*x)"
      ],
      "metadata": {
        "id": "f7xcAoqbIvs0"
      },
      "execution_count": 4,
      "outputs": []
    },
    {
      "cell_type": "markdown",
      "source": [
        "$f(\\varphi(x,t))=\\varphi^{3}(x,t)-\\varphi(x,t)$"
      ],
      "metadata": {
        "id": "RMD0WmhsJZy7"
      }
    },
    {
      "cell_type": "code",
      "source": [
        "# Double-well potential\n",
        "\n",
        "def f(phi):\n",
        "    return phi**3 - phi"
      ],
      "metadata": {
        "id": "O2arCB89JaBA"
      },
      "execution_count": 6,
      "outputs": []
    },
    {
      "cell_type": "markdown",
      "source": [
        "$g(x,t)=0$"
      ],
      "metadata": {
        "id": "SKssoRfjKGep"
      }
    },
    {
      "cell_type": "code",
      "source": [
        "# Forcing term\n",
        "\n",
        "def g(x, t):\n",
        "    return 0.0"
      ],
      "metadata": {
        "id": "KovIf7aVKGzt"
      },
      "execution_count": 7,
      "outputs": []
    },
    {
      "cell_type": "code",
      "source": [
        "# Setting up the finite difference scheme\n",
        "\n",
        "A = np.zeros((n, n))\n",
        "for i in range(1, n-1):\n",
        "    A[i,i-1] = 1\n",
        "    A[i,i] = -2\n",
        "    A[i,i+1] = 1\n",
        "A[0,0] = -2\n",
        "A[0,1] = 1\n",
        "A[n-1,n-2] = 1\n",
        "A[n-1,n-1] = -2"
      ],
      "metadata": {
        "id": "TpRqsPpjKVs4"
      },
      "execution_count": 8,
      "outputs": []
    },
    {
      "cell_type": "code",
      "source": [
        "# Using the forward Euler method for integrating the PDE in time\n",
        "\n",
        "phi = phi0\n",
        "t = 0\n",
        "while t < T:\n",
        "    # Compute second spatial derivative using finite differences\n",
        "    d2phi = (1/dx**2) * A.dot(phi)\n",
        "    \n",
        "    # Update phase field using forward Euler method\n",
        "    phi = phi + dt * (epsilon**2 * d2phi - f(phi) + g(x, t))\n",
        "    \n",
        "    # Increment time\n",
        "    t = t + dt"
      ],
      "metadata": {
        "id": "zi-tLBWOKlao"
      },
      "execution_count": 9,
      "outputs": []
    },
    {
      "cell_type": "code",
      "execution_count": 10,
      "metadata": {
        "colab": {
          "base_uri": "https://localhost:8080/",
          "height": 279
        },
        "id": "TVI0gWCaHkdg",
        "outputId": "ca9b5862-e29b-45d1-9979-c25ac785a788"
      },
      "outputs": [
        {
          "output_type": "display_data",
          "data": {
            "text/plain": [
              "<Figure size 432x288 with 1 Axes>"
            ],
            "image/png": "[encoded data removed]"
          },
          "metadata": {
            "needs_background": "light"
          }
        }
      ],
      "source": [
        "# Plotting the solution\n",
        "\n",
        "plt.plot(x, phi)\n",
        "plt.xlabel('x')\n",
        "plt.ylabel('phi')\n",
        "plt.show()"
      ]
    }
  ]
}