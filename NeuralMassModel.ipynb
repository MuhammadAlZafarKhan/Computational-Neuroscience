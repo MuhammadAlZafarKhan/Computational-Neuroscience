{
  "nbformat": 4,
  "nbformat_minor": 0,
  "metadata": {
    "colab": {
      "provenance": []
    },
    "kernelspec": {
      "name": "python3",
      "display_name": "Python 3"
    },
    "language_info": {
      "name": "python"
    }
  },
  "cells": [
    {
      "cell_type": "markdown",
      "source": [
        "# Neural mass model: To describe the behaviour of a large group of neurons"
      ],
      "metadata": {
        "id": "rCCNTpLShExA"
      }
    },
    {
      "cell_type": "code",
      "source": [
        "# Packages\n",
        "\n",
        "import numpy as np\n",
        "from scipy.integrate import odeint\n",
        "import matplotlib.pyplot as plt"
      ],
      "metadata": {
        "id": "iUWQH7MmhArK"
      },
      "execution_count": 6,
      "outputs": []
    },
    {
      "cell_type": "markdown",
      "source": [
        "$\\frac{dR(t)}{dt}=\\frac{-R(t)+f[R(t)w_{R}-I(t)w_{I}+I_{\\text{ext}}]}{\\tau_{R}}, \\frac{dI(t)}{dt}=\\frac{-I(t)+g(w_{R})}{\\tau_{I}}$"
      ],
      "metadata": {
        "id": "IV1RLOefhhCv"
      }
    },
    {
      "cell_type": "code",
      "source": [
        "# Neural mass equations\n",
        "\n",
        "def neural_mass_model(y, t, wR, wI, I_ext, tau_R, tau_I):\n",
        "    R, I = y\n",
        "    f = lambda x: 1 / (1 + np.exp(-x))  # sigmoid activation function\n",
        "    g = lambda x: np.tanh(x)  # alternative activation function\n",
        "    dR_dt = (-R + f(wR * R - wI * I + I_ext)) / tau_R\n",
        "    dI_dt = (-I + g(wR * R)) / tau_I\n",
        "    return [dR_dt, dI_dt]"
      ],
      "metadata": {
        "id": "W87AZ1GAhRzC"
      },
      "execution_count": 8,
      "outputs": []
    },
    {
      "cell_type": "code",
      "source": [
        "# Simulation parameters\n",
        "\n",
        "T = 100  # simulation time in ms\n",
        "dt = 0.1  # time step in ms\n",
        "t = np.arange(0, T + dt, dt)  # time vector\n",
        "N = len(t)  # number of time steps"
      ],
      "metadata": {
        "id": "fUYo5gjXhcsS"
      },
      "execution_count": 10,
      "outputs": []
    },
    {
      "cell_type": "code",
      "source": [
        "# Model parameters\n",
        "\n",
        "wR = 2.5  # synaptic weight of excitatory input\n",
        "wI = 5.0  # synaptic weight of inhibitory input\n",
        "I_ext = 0.5  # external input\n",
        "tau_R = 10.0  # time constant of excitatory population\n",
        "tau_I = 20.0  # time constant of inhibitory population\n",
        "y0 = [0, 0]  # initial conditions"
      ],
      "metadata": {
        "id": "v1Lzd2qMidHZ"
      },
      "execution_count": 11,
      "outputs": []
    },
    {
      "cell_type": "code",
      "source": [
        "# Solving the equations\n",
        "\n",
        "sol = odeint(neural_mass_model, y0, t, args=(wR, wI, I_ext, tau_R, tau_I))"
      ],
      "metadata": {
        "id": "h__dI9QBimkN"
      },
      "execution_count": 12,
      "outputs": []
    },
    {
      "cell_type": "code",
      "source": [
        "# Plotting the solution\n",
        "\n",
        "fig, ax = plt.subplots()\n",
        "ax.plot(t, sol[:, 0], label='R')  # plot the excitatory activity\n",
        "ax.plot(t, sol[:, 1], label='I')  # plot the inhibitory activity\n",
        "ax.set_xlabel('Time (ms)')\n",
        "ax.set_ylabel('Activity')\n",
        "ax.set_title('Neural Mass Model')\n",
        "ax.legend()\n",
        "plt.show()"
      ],
      "metadata": {
        "colab": {
          "base_uri": "https://localhost:8080/",
          "height": 295
        },
        "id": "tM0qo70bisf7",
        "outputId": "38a6a7cf-de3a-4e12-e37e-b9914c780ad0"
      },
      "execution_count": 13,
      "outputs": [
        {
          "output_type": "display_data",
          "data": {
            "text/plain": [
              "<Figure size 432x288 with 1 Axes>"
            ],
            "image/png": "[encoded data removed]"
          },
          "metadata": {
            "needs_background": "light"
          }
        }
      ]
    }
  ]
}