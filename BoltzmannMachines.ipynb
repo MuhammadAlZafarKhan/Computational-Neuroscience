{
  "nbformat": 4,
  "nbformat_minor": 0,
  "metadata": {
    "colab": {
      "provenance": []
    },
    "kernelspec": {
      "name": "python3",
      "display_name": "Python 3"
    },
    "language_info": {
      "name": "python"
    }
  },
  "cells": [
    {
      "cell_type": "markdown",
      "source": [
        "#Boltzmann machines are used to model how the brain stores and retrieves memories"
      ],
      "metadata": {
        "id": "Cl6RfRDyyoI3"
      }
    },
    {
      "cell_type": "code",
      "source": [
        "# Packages\n",
        "\n",
        "import numpy as np"
      ],
      "metadata": {
        "id": "aU5G-56ry5tn"
      },
      "execution_count": 1,
      "outputs": []
    },
    {
      "cell_type": "code",
      "execution_count": 2,
      "metadata": {
        "id": "u5Fz8fD2ylO8"
      },
      "outputs": [],
      "source": [
        "# Creating a class of the Boltzmann machine that we can just call\n",
        "\n",
        "class BoltzmannMachine:\n",
        "    def __init__(self, num_visible, num_hidden):\n",
        "        self.num_visible = num_visible # number of visible layers\n",
        "        self.num_hidden = num_hidden # number of hidden layers\n",
        "        self.weights = np.random.normal(0, 1, (num_visible, num_hidden)) # randomly initialising the weights from the standard normal distribution w ~ N(0, 1)\n",
        "        self.bias_visible = np.zeros(num_visible) # initialing the bias for the visible layers as initially a row vector of zeroes with cardinality = number of visible layers\n",
        "        self.bias_hidden = np.zeros(num_hidden) # initialing the bias for the hidden layers as initially a row vector of zeroes with cardinality = number of hidden layers\n",
        "\n",
        "    # The nonlinear activation function\n",
        "    def sigmoid(self, x):\n",
        "        return 1 / (1 + np.exp(-x))\n",
        "\n",
        "    # Implmenting Gibbs sampling\n",
        "    def gibbs_sampling(self, visible_state):\n",
        "        hidden_prob = self.sigmoid(np.dot(visible_state, self.weights) + self.bias_hidden) # p(h) = 1 / (1 + exp(-(vi * xi + bi)))\n",
        "        hidden_state = np.random.binomial(1, hidden_prob) # a random number from the binomial distribution\n",
        "        visible_prob = self.sigmoid(np.dot(hidden_state, self.weights.T) + self.bias_visible)  # p(v) = 1 / (1 + exp(-(hi * xi + bi)))\n",
        "        visible_state = np.random.binomial(1, visible_prob) # a random number from the binomial distribution\n",
        "        return hidden_state, visible_state\n",
        "\n",
        "    # Training the model\n",
        "    def train(self, data, num_epochs=100, learning_rate=0.1):\n",
        "        num_examples = data.shape[0]\n",
        "        for epoch in range(num_epochs):\n",
        "            for example in range(num_examples):\n",
        "                visible_state = data[example]\n",
        "                hidden_state, visible_state_recon = self.gibbs_sampling(visible_state)\n",
        "                positive_gradient = np.outer(visible_state, hidden_state)\n",
        "                negative_gradient = np.outer(visible_state_recon, self.sigmoid(np.dot(visible_state_recon, self.weights) + self.bias_hidden))\n",
        "                self.weights += learning_rate * (positive_gradient - negative_gradient)\n",
        "                self.bias_visible += learning_rate * (visible_state - visible_state_recon)\n",
        "                self.bias_hidden += learning_rate * (hidden_state - self.sigmoid(np.dot(visible_state_recon, self.weights) + self.bias_hidden))\n",
        "    \n",
        "    # Generting samples\n",
        "    def generate_samples(self, num_samples):\n",
        "        samples = np.zeros((num_samples, self.num_visible))\n",
        "        visible_state = np.random.binomial(1, 0.5, self.num_visible)\n",
        "        for sample in range(num_samples):\n",
        "            hidden_state, visible_state = self.gibbs_sampling(visible_state)\n",
        "            samples[sample] = visible_state\n",
        "        return samples"
      ]
    },
    {
      "cell_type": "markdown",
      "source": [
        "#An example of generating samples"
      ],
      "metadata": {
        "id": "hiaWps4Q0zaG"
      }
    },
    {
      "cell_type": "code",
      "source": [
        "data = np.array([[0, 0, 1, 1], [1, 0, 0, 1], [0, 1, 1, 0], [1, 1, 0, 0]])\n",
        "bm = BoltzmannMachine(num_visible = 4, num_hidden = 2)\n",
        "bm.train(data)\n",
        "samples = bm.generate_samples(num_samples=10)\n",
        "print(samples)"
      ],
      "metadata": {
        "colab": {
          "base_uri": "https://localhost:8080/"
        },
        "id": "xSz7R8B7y-8h",
        "outputId": "3e11e65d-3af1-4192-8abf-f08b98c6d8db"
      },
      "execution_count": 3,
      "outputs": [
        {
          "output_type": "stream",
          "name": "stdout",
          "text": [
            "[[1. 1. 1. 0.]\n",
            " [1. 0. 0. 1.]\n",
            " [1. 1. 0. 0.]\n",
            " [1. 0. 0. 0.]\n",
            " [1. 1. 0. 1.]\n",
            " [0. 0. 1. 0.]\n",
            " [0. 1. 1. 0.]\n",
            " [0. 1. 1. 1.]\n",
            " [0. 0. 1. 0.]\n",
            " [0. 0. 1. 0.]]\n"
          ]
        }
      ]
    }
  ]
}