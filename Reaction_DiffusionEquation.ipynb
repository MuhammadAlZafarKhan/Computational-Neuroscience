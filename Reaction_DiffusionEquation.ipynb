{
  "nbformat": 4,
  "nbformat_minor": 0,
  "metadata": {
    "colab": {
      "provenance": []
    },
    "kernelspec": {
      "name": "python3",
      "display_name": "Python 3"
    },
    "language_info": {
      "name": "python"
    }
  },
  "cells": [
    {
      "cell_type": "markdown",
      "source": [
        "#Reaction-Diffusion Equation: $\\frac{\\partial u(\\mathbf{r},t)}{\\partial t}=D\\nabla^{2}u(\\mathbf{r},t)+f(u)$"
      ],
      "metadata": {
        "id": "W1thj3otkMgG"
      }
    },
    {
      "cell_type": "markdown",
      "source": [
        "Below, we will solve the 1D R-D equation"
      ],
      "metadata": {
        "id": "zqRa1Eo5mJqu"
      }
    },
    {
      "cell_type": "code",
      "execution_count": 1,
      "metadata": {
        "id": "203kNfkFkL_j"
      },
      "outputs": [],
      "source": [
        "# Packages\n",
        "\n",
        "import numpy as np\n",
        "import matplotlib.pyplot as plt\n",
        "from scipy.integrate import solve_ivp"
      ]
    },
    {
      "cell_type": "code",
      "source": [
        "# Physical parameters\n",
        "\n",
        "D = 0.01 # diffusion coefficient\n",
        "k = 0.1 # reaction rate"
      ],
      "metadata": {
        "id": "nRT_OlIAkzsY"
      },
      "execution_count": 2,
      "outputs": []
    },
    {
      "cell_type": "code",
      "source": [
        "# Initial conditions\n",
        "\n",
        "u0 = np.array([0.5, 0.5])"
      ],
      "metadata": {
        "id": "od8kuMpUk_fd"
      },
      "execution_count": 3,
      "outputs": []
    },
    {
      "cell_type": "code",
      "source": [
        "# Reaction function f(u)\n",
        "\n",
        "def f(u):\n",
        "    return np.array([-k*u[0]*u[1], k*u[0]*u[1]])"
      ],
      "metadata": {
        "id": "cbEZeKKllLXR"
      },
      "execution_count": 5,
      "outputs": []
    },
    {
      "cell_type": "code",
      "source": [
        "# Defining the equation\n",
        "\n",
        "def reaction_diffusion(t, u):\n",
        "    du_dx = np.gradient(u)\n",
        "    du_dt = D * np.gradient(du_dx) + f(u)\n",
        "    return du_dt"
      ],
      "metadata": {
        "id": "l1xW7IPWleNc"
      },
      "execution_count": 6,
      "outputs": []
    },
    {
      "cell_type": "code",
      "source": [
        "# Creating the spatial domain\n",
        "\n",
        "x = np.linspace(0, 1, 100)"
      ],
      "metadata": {
        "id": "8rPmtu5Glnbe"
      },
      "execution_count": 7,
      "outputs": []
    },
    {
      "cell_type": "code",
      "source": [
        "# Solve the system of equations\n",
        "\n",
        "sol = solve_ivp(reaction_diffusion, [0, 10], u0, t_eval = np.linspace(0, 10, 100), method='BDF')  # backward differentiation"
      ],
      "metadata": {
        "id": "nWtOd0GXlr9o"
      },
      "execution_count": 8,
      "outputs": []
    },
    {
      "cell_type": "code",
      "source": [
        "# Plotting the solution\n",
        "\n",
        "plt.plot(x, sol.y[0], label='u1')\n",
        "plt.plot(x, sol.y[1], label='u2')\n",
        "plt.legend()\n",
        "plt.xlabel('x')\n",
        "plt.ylabel('u')\n",
        "plt.show()"
      ],
      "metadata": {
        "colab": {
          "base_uri": "https://localhost:8080/",
          "height": 279
        },
        "id": "A8Cz_qGWl8ns",
        "outputId": "1f3c88ba-552d-4377-d15c-ba9d8d048044"
      },
      "execution_count": 9,
      "outputs": [
        {
          "output_type": "display_data",
          "data": {
            "text/plain": [
              "<Figure size 432x288 with 1 Axes>"
            ],
            "image/png": "[encoded data removed]"
          },
          "metadata": {
            "needs_background": "light"
          }
        }
      ]
    },
    {
      "cell_type": "code",
      "source": [],
      "metadata": {
        "id": "4Un8EhHJmDS1"
      },
      "execution_count": null,
      "outputs": []
    }
  ]
}