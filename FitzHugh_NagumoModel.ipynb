{
  "nbformat": 4,
  "nbformat_minor": 0,
  "metadata": {
    "colab": {
      "provenance": []
    },
    "kernelspec": {
      "name": "python3",
      "display_name": "Python 3"
    },
    "language_info": {
      "name": "python"
    }
  },
  "cells": [
    {
      "cell_type": "code",
      "source": [
        "# Packages\n",
        "\n",
        "import numpy as np\n",
        "import matplotlib.pyplot as plt"
      ],
      "metadata": {
        "id": "RoaTcL8c5hKK"
      },
      "execution_count": 1,
      "outputs": []
    },
    {
      "cell_type": "markdown",
      "source": [
        "$\\frac{dV}{dt}=V-\\frac{V^{3}}{3}-W+I; \\frac{dW}{dt}=\\frac{V+a-bW}{\\tau}$"
      ],
      "metadata": {
        "id": "2F7La_iY5sjb"
      }
    },
    {
      "cell_type": "code",
      "source": [
        "# Defining the equations\n",
        "\n",
        "def FHN(t, X, a, b, tau, I):\n",
        "    V, w = X\n",
        "    dVdt = V - (V**3)/3 - w + I\n",
        "    dwdt = (V + a - b*w)/tau\n",
        "    return np.array([dVdt, dwdt])"
      ],
      "metadata": {
        "id": "CEbS77wb5mli"
      },
      "execution_count": 2,
      "outputs": []
    },
    {
      "cell_type": "code",
      "source": [
        "# Simulation parameters\n",
        "\n",
        "t0, t1 = 0, 100\n",
        "dt = 0.01\n",
        "t = np.arange(t0, t1, dt)"
      ],
      "metadata": {
        "id": "LL_pj-J66BdW"
      },
      "execution_count": 3,
      "outputs": []
    },
    {
      "cell_type": "code",
      "source": [
        "# Model paramters and initial conditions\n",
        "\n",
        "a, b, tau, I = 0.7, 0.8, 12.5, 0.5\n",
        "V0, w0 = -1, 0"
      ],
      "metadata": {
        "id": "NZQHfg7O6ITJ"
      },
      "execution_count": 4,
      "outputs": []
    },
    {
      "cell_type": "code",
      "source": [
        "# Foruth-order Runge-Kutta method\n",
        "\n",
        "X = np.zeros((len(t), 2))\n",
        "X[0, :] = np.array([V0, w0])\n",
        "for i in range(len(t) - 1):\n",
        "    k1 = dt*FHN(t[i], X[i, :], a, b, tau, I)\n",
        "    k2 = dt*FHN(t[i] + dt/2, X[i, :] + k1/2, a, b, tau, I)\n",
        "    k3 = dt*FHN(t[i] + dt/2, X[i, :] + k2/2, a, b, tau, I)\n",
        "    k4 = dt*FHN(t[i] + dt, X[i, :] + k3, a, b, tau, I)\n",
        "    X[i+1, :] = X[i, :] + (k1 + 2*k2 + 2*k3 + k4)/6"
      ],
      "metadata": {
        "id": "RV5F-0aD6RAu"
      },
      "execution_count": 5,
      "outputs": []
    },
    {
      "cell_type": "code",
      "execution_count": 6,
      "metadata": {
        "colab": {
          "base_uri": "https://localhost:8080/",
          "height": 281
        },
        "id": "ocZ8Ibc54S_6",
        "outputId": "3b74173a-534c-46be-f506-93a8b308a30a"
      },
      "outputs": [
        {
          "output_type": "display_data",
          "data": {
            "text/plain": [
              "<Figure size 432x288 with 1 Axes>"
            ],
            "image/png": "[encoded data removed]"
          },
          "metadata": {
            "needs_background": "light"
          }
        }
      ],
      "source": [
        "# Plotting the results\n",
        "\n",
        "plt.plot(t, X[:, 0])\n",
        "plt.xlabel('Time')\n",
        "plt.ylabel('V')\n",
        "plt.show()"
      ]
    }
  ]
}